{
 "cells": [
  {
   "cell_type": "code",
   "execution_count": null,
   "id": "513c6bf8-7643-44e5-883d-190ef48d324e",
   "metadata": {},
   "outputs": [],
   "source": []
  }
 ],
 "metadata": {
  "kernelspec": {
   "display_name": "",
   "name": ""
  },
  "language_info": {
   "name": ""
  }
 },
 "nbformat": 4,
 "nbformat_minor": 5
}
